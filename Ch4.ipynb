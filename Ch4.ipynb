{
 "cells": [
  {
   "cell_type": "markdown",
   "id": "c5e533a7",
   "metadata": {},
   "source": [
    "# 4장 실제 데이터를 텐서로 표현해보기"
   ]
  },
  {
   "cell_type": "markdown",
   "id": "0f3762df",
   "metadata": {},
   "source": [
    "## 4.1 이미지 다루기"
   ]
  },
  {
   "cell_type": "code",
   "execution_count": 6,
   "id": "76805192",
   "metadata": {},
   "outputs": [],
   "source": [
    "import numpy as np\n",
    "import torch\n",
    "torch.set_printoptions(edgeitems=2, threshold=50)"
   ]
  },
  {
   "cell_type": "code",
   "execution_count": 4,
   "id": "351fbbc7",
   "metadata": {},
   "outputs": [
    {
     "name": "stdout",
     "output_type": "stream",
     "text": [
      "Collecting imageio\n",
      "  Downloading imageio-2.21.2-py3-none-any.whl (3.4 MB)\n",
      "Requirement already satisfied: numpy in c:\\users\\hs\\anaconda3\\envs\\ml\\lib\\site-packages (from imageio) (1.22.3)\n",
      "Requirement already satisfied: pillow>=8.3.2 in c:\\users\\hs\\anaconda3\\envs\\ml\\lib\\site-packages (from imageio) (9.2.0)\n",
      "Installing collected packages: imageio\n",
      "Successfully installed imageio-2.21.2\n",
      "Note: you may need to restart the kernel to use updated packages.\n"
     ]
    }
   ],
   "source": [
    "pip install imageio"
   ]
  },
  {
   "cell_type": "markdown",
   "id": "3e0f967b",
   "metadata": {},
   "source": [
    "imageio로 png이미지를 로딩할 수 있다, 로딩된 이미지는 너비, 높이, 채널(RGB) 세개의 차원을 가진다"
   ]
  },
  {
   "cell_type": "code",
   "execution_count": 7,
   "id": "4aaba1a6",
   "metadata": {},
   "outputs": [
    {
     "name": "stderr",
     "output_type": "stream",
     "text": [
      "C:\\Users\\HS\\AppData\\Local\\Temp\\ipykernel_13444\\1689007281.py:3: DeprecationWarning: Starting with ImageIO v3 the behavior of this function will switch to that of iio.v3.imread. To keep the current behavior (and make this warning dissapear) use `import imageio.v2 as imageio` or call `imageio.v2.imread` directly.\n",
      "  img_arr = imageio.imread('data/p1ch4/image-dog/bobby.jpg')\n"
     ]
    },
    {
     "data": {
      "text/plain": [
       "(720, 1280, 3)"
      ]
     },
     "execution_count": 7,
     "metadata": {},
     "output_type": "execute_result"
    }
   ],
   "source": [
    "import imageio\n",
    "\n",
    "img_arr = imageio.imread('data/p1ch4/image-dog/bobby.jpg')\n",
    "img_arr.shape"
   ]
  },
  {
   "cell_type": "markdown",
   "id": "ec614ada",
   "metadata": {},
   "source": [
    "하지만 파이토치 모듈은 텐서가 (채널, 높이, 너비) 순으로 배치되어야 한다. tensor.permute()으로 차원을 바꿀 수 있다"
   ]
  },
  {
   "cell_type": "code",
   "execution_count": 11,
   "id": "91a34450",
   "metadata": {},
   "outputs": [],
   "source": [
    "img = torch.from_numpy(img_arr)\n",
    "out = img.permute(2, 0, 1)"
   ]
  },
  {
   "cell_type": "code",
   "execution_count": 13,
   "id": "6d20e6c5",
   "metadata": {},
   "outputs": [
    {
     "data": {
      "text/plain": [
       "torch.Size([3, 720, 1280])"
      ]
     },
     "execution_count": 13,
     "metadata": {},
     "output_type": "execute_result"
    }
   ],
   "source": [
    "out.shape"
   ]
  },
  {
   "cell_type": "markdown",
   "id": "14826759",
   "metadata": {},
   "source": [
    "이제 채널이 3, 높이 256, 너비 256의 이미지가 3개 있는 배치를 만들어보자. 여기서 데이터 타입은 부호가 없는 8비트 정수로 표현된다."
   ]
  },
  {
   "cell_type": "code",
   "execution_count": 14,
   "id": "9f5b3fb1",
   "metadata": {},
   "outputs": [],
   "source": [
    "batch_size = 3\n",
    "batch = torch.zeros(batch_size, 3, 256, 256, dtype=torch.uint8)"
   ]
  },
  {
   "cell_type": "markdown",
   "id": "90263d73",
   "metadata": {},
   "source": [
    "이제 파일에 있는 png 파일을 읽어와 텐서로 변환해보자"
   ]
  },
  {
   "cell_type": "code",
   "execution_count": 15,
   "id": "827f0ab8",
   "metadata": {
    "scrolled": true
   },
   "outputs": [
    {
     "name": "stderr",
     "output_type": "stream",
     "text": [
      "C:\\Users\\HS\\AppData\\Local\\Temp\\ipykernel_13444\\4009713087.py:7: DeprecationWarning: Starting with ImageIO v3 the behavior of this function will switch to that of iio.v3.imread. To keep the current behavior (and make this warning dissapear) use `import imageio.v2 as imageio` or call `imageio.v2.imread` directly.\n",
      "  img_arr = imageio.imread(os.path.join(data_dir, filename))\n"
     ]
    }
   ],
   "source": [
    "import os\n",
    "\n",
    "data_dir = 'data/p1ch4/image-cats/'\n",
    "filenames = [name for name in os.listdir(data_dir)\n",
    "             if os.path.splitext(name)[-1] == '.png']\n",
    "for i, filename in enumerate(filenames):\n",
    "    img_arr = imageio.imread(os.path.join(data_dir, filename))\n",
    "    img_t = torch.from_numpy(img_arr)\n",
    "    img_t = img_t.permute(2, 0, 1)\n",
    "    img_t = img_t[:3] # <1>투명도가 있는 이미지는 4번쨰 요소까지 있지만, 우리는 RGB만 사용함으로 첫 세개 채널만 유지\n",
    "    batch[i] = img_t"
   ]
  },
  {
   "cell_type": "markdown",
   "id": "9616e27e",
   "metadata": {},
   "source": [
    "신경망은 입력값이 0부터1 사이이거나 -1부터1사이일때 훈련 성능이 가장 좋다. 그러므로 RGB값의 최대치인 255로 전부 나눠주어 정규화를 해주자"
   ]
  },
  {
   "cell_type": "code",
   "execution_count": 17,
   "id": "ff9e774a",
   "metadata": {},
   "outputs": [],
   "source": [
    "batch = batch.float()\n",
    "batch /= 255.0"
   ]
  },
  {
   "cell_type": "markdown",
   "id": "d4059060",
   "metadata": {},
   "source": [
    "혹은 각 채널의 평균과 표준 편차를 구해서 평균이 0이고 각 채널값이 표준 편차가 되도록 정규화할 수 있다"
   ]
  },
  {
   "cell_type": "code",
   "execution_count": 18,
   "id": "35b7960a",
   "metadata": {},
   "outputs": [],
   "source": [
    "n_channels = batch.shape[1]\n",
    "for c in range(n_channels):\n",
    "    mean = torch.mean(batch[:, c])\n",
    "    std = torch.std(batch[:, c])\n",
    "    batch[:, c] = (batch[:, c] - mean) / std"
   ]
  },
  {
   "cell_type": "markdown",
   "id": "f947e766",
   "metadata": {},
   "source": [
    "## 3차원 이미지: 용적 데이터"
   ]
  },
  {
   "cell_type": "markdown",
   "id": "33084657",
   "metadata": {},
   "source": [
    "image.volread 함수는 인자로 받은 디렉토리에 있는 의료용 디지털 영상 파일을 연속된 형태로 조합해서 3차원 넘파이 배열을 만든다"
   ]
  },
  {
   "cell_type": "code",
   "execution_count": 20,
   "id": "39ab15c8",
   "metadata": {
    "scrolled": true
   },
   "outputs": [
    {
     "name": "stdout",
     "output_type": "stream",
     "text": [
      "Reading DICOM (examining files): 1/99 files (1.0%17/99 files (17.2%34/99 files (34.3%52/99 files (52.5%69/99 files (69.7%88/99 files (88.9%99/99 files (100.0%)\n",
      "  Found 1 correct series.\n",
      "Reading DICOM (loading data): 33/99  (33.371/99  (71.799/99  (100.0%)\n"
     ]
    },
    {
     "data": {
      "text/plain": [
       "(99, 512, 512)"
      ]
     },
     "execution_count": 20,
     "metadata": {},
     "output_type": "execute_result"
    }
   ],
   "source": [
    "import imageio\n",
    "\n",
    "dir_path = \"data/p1ch4/volumetric-dicom/2-LUNG 3.0  B70f-04083\"\n",
    "vol_arr = imageio.volread(dir_path, 'DICOM')\n",
    "vol_arr.shape"
   ]
  },
  {
   "cell_type": "markdown",
   "id": "c2dcc14f",
   "metadata": {},
   "source": [
    "torch.from_numpy로 넘파이 배열을 텐서로 변환하고, 실수 형태로 저장한다. 채널 정보가 사라져서 레이아웃이 달라졌으니 unsqueeze 함수로 채널 차원을 위한 공간을 만들어준다"
   ]
  },
  {
   "cell_type": "code",
   "execution_count": 21,
   "id": "ca7209fd",
   "metadata": {},
   "outputs": [
    {
     "data": {
      "text/plain": [
       "torch.Size([1, 99, 512, 512])"
      ]
     },
     "execution_count": 21,
     "metadata": {},
     "output_type": "execute_result"
    }
   ],
   "source": [
    "vol = torch.from_numpy(vol_arr).float()\n",
    "vol = torch.unsqueeze(vol, 0)\n",
    "\n",
    "vol.shape"
   ]
  },
  {
   "cell_type": "code",
   "execution_count": 4,
   "id": "2fb2ceeb",
   "metadata": {
    "scrolled": true
   },
   "outputs": [
    {
     "data": {
      "text/plain": [
       "<matplotlib.image.AxesImage at 0x12f59c22c18>"
      ]
     },
     "execution_count": 4,
     "metadata": {},
     "output_type": "execute_result"
    },
    {
     "data": {
      "image/png": "[encoded data removed]",
      "text/plain": [
       "<Figure size 432x288 with 1 Axes>"
      ]
     },
     "metadata": {
      "needs_background": "light"
     },
     "output_type": "display_data"
    }
   ],
   "source": [
    "%matplotlib inline\n",
    "import matplotlib.pyplot as plt\n",
    "\n",
    "plt.imshow(vol_arr[50])"
   ]
  },
  {
   "cell_type": "markdown",
   "id": "682b95e5",
   "metadata": {},
   "source": [
    "## 4.3테이블 데이터 표현하기"
   ]
  },
  {
   "cell_type": "markdown",
   "id": "6e480952",
   "metadata": {},
   "source": [
    "CSV나 Excel 형태로 되어있는 테이블 데이터를 부동소수점 수로 이뤄진 텐서로 나타낼 수 있다. 밑 데이터는 와인에 대한 화학성분을 나타낸 테이블 데이터고, 각 와인에 대한 맛의 점수가 타겟인 데이터다. 이 데이터셋에 대해 실행한 머신러닝 작업은 화학 성분만 가지고 맛을 예측하는 것이다. 넘파이를 이용해 csv 파일을 불러오고 텐서로 저장해보자."
   ]
  },
  {
   "cell_type": "code",
   "execution_count": 23,
   "id": "759c6f6c",
   "metadata": {
    "scrolled": true
   },
   "outputs": [
    {
     "data": {
      "text/plain": [
       "array([[ 7.  ,  0.27,  0.36, ...,  0.45,  8.8 ,  6.  ],\n",
       "       [ 6.3 ,  0.3 ,  0.34, ...,  0.49,  9.5 ,  6.  ],\n",
       "       [ 8.1 ,  0.28,  0.4 , ...,  0.44, 10.1 ,  6.  ],\n",
       "       ...,\n",
       "       [ 6.5 ,  0.24,  0.19, ...,  0.46,  9.4 ,  6.  ],\n",
       "       [ 5.5 ,  0.29,  0.3 , ...,  0.38, 12.8 ,  7.  ],\n",
       "       [ 6.  ,  0.21,  0.38, ...,  0.32, 11.8 ,  6.  ]], dtype=float32)"
      ]
     },
     "execution_count": 23,
     "metadata": {},
     "output_type": "execute_result"
    }
   ],
   "source": [
    "import csv\n",
    "wine_path = \"data/p1ch4/tabular-wine/winequality-white.csv\"\n",
    "wineq_numpy = np.loadtxt(wine_path, dtype=np.float32, delimiter=\";\",\n",
    "                         skiprows=1)\n",
    "wineq_numpy"
   ]
  },
  {
   "cell_type": "markdown",
   "id": "d2baaea9",
   "metadata": {},
   "source": [
    "csv.reader로 첫 번째 줄 카테고리들을 출력할 수 있다"
   ]
  },
  {
   "cell_type": "code",
   "execution_count": 26,
   "id": "b8971685",
   "metadata": {
    "scrolled": true
   },
   "outputs": [
    {
     "data": {
      "text/plain": [
       "((4898, 12),\n",
       " ['fixed acidity',\n",
       "  'volatile acidity',\n",
       "  'citric acid',\n",
       "  'residual sugar',\n",
       "  'chlorides',\n",
       "  'free sulfur dioxide',\n",
       "  'total sulfur dioxide',\n",
       "  'density',\n",
       "  'pH',\n",
       "  'sulphates',\n",
       "  'alcohol',\n",
       "  'quality'])"
      ]
     },
     "execution_count": 26,
     "metadata": {},
     "output_type": "execute_result"
    }
   ],
   "source": [
    "col_list = next(csv.reader(open(wine_path), delimiter=';'))\n",
    "\n",
    "wineq_numpy.shape, col_list"
   ]
  },
  {
   "cell_type": "markdown",
   "id": "ae0bf64d",
   "metadata": {},
   "source": [
    "넘파이 배열을 from_numpy로 텐서로 바꿔준다."
   ]
  },
  {
   "cell_type": "code",
   "execution_count": 27,
   "id": "acbd3209",
   "metadata": {},
   "outputs": [
    {
     "data": {
      "text/plain": [
       "(torch.Size([4898, 12]), torch.float32)"
      ]
     },
     "execution_count": 27,
     "metadata": {},
     "output_type": "execute_result"
    }
   ],
   "source": [
    "wineq = torch.from_numpy(wineq_numpy)\n",
    "\n",
    "wineq.shape, wineq.dtype"
   ]
  },
  {
   "cell_type": "markdown",
   "id": "45382135",
   "metadata": {},
   "source": [
    "품질 점수를 연속값으로 취급해서 회귀 작업을 할 수도 있고, 레이블로 취급해서 분류 작업을 할수도 있겠다(1점, 2점, 3점 등으로). 두 가지 경우 모두 점수를 정답 값으로 쓸 수 있다"
   ]
  },
  {
   "cell_type": "code",
   "execution_count": 33,
   "id": "803945bb",
   "metadata": {
    "scrolled": true
   },
   "outputs": [
    {
     "data": {
      "text/plain": [
       "(tensor([[ 7.0000,  0.2700,  ...,  0.4500,  8.8000],\n",
       "         [ 6.3000,  0.3000,  ...,  0.4900,  9.5000],\n",
       "         ...,\n",
       "         [ 5.5000,  0.2900,  ...,  0.3800, 12.8000],\n",
       "         [ 6.0000,  0.2100,  ...,  0.3200, 11.8000]]),\n",
       " torch.Size([4898, 11]))"
      ]
     },
     "execution_count": 33,
     "metadata": {},
     "output_type": "execute_result"
    }
   ],
   "source": [
    "data = wineq[:, :-1] # <1> 모든 행과 마지막을 제외한 모든 열 선택(마지막 열은 정답 값)\n",
    "data, data.shape"
   ]
  },
  {
   "cell_type": "code",
   "execution_count": 35,
   "id": "b6b1059c",
   "metadata": {},
   "outputs": [
    {
     "data": {
      "text/plain": [
       "(tensor([6., 6.,  ..., 7., 6.]), torch.Size([4898]))"
      ]
     },
     "execution_count": 35,
     "metadata": {},
     "output_type": "execute_result"
    }
   ],
   "source": [
    "target = wineq[:, -1] # <2>모든 행과 마지막 열 선택, 타겟 데이터 설정\n",
    "target, target.shape"
   ]
  },
  {
   "cell_type": "markdown",
   "id": "67430d1c",
   "metadata": {},
   "source": [
    "카테고리로 분류할거면 long() 데이터 타입으로 설정해서 정수인 점수 카테고리로 회귀 문제로 푼다"
   ]
  },
  {
   "cell_type": "code",
   "execution_count": 38,
   "id": "5d86d1b7",
   "metadata": {
    "scrolled": true
   },
   "outputs": [
    {
     "data": {
      "text/plain": [
       "tensor([6, 6,  ..., 7, 6])"
      ]
     },
     "execution_count": 38,
     "metadata": {},
     "output_type": "execute_result"
    }
   ],
   "source": [
    "target = wineq[:, -1].long()\n",
    "target"
   ]
  },
  {
   "cell_type": "markdown",
   "id": "bf926253",
   "metadata": {},
   "source": [
    "만약 점수가 순서가 없으며 서로 간에 완전히 이산적인 관계라면 원핫 인코딩으로 나타내도 된다. 원핫 인코딩은 정답 레이블 하나를 제외하고 전부 0으로 나타낸 벡터다. scatter 함수로 타겟 데이터를 원핫 인코딩 할 수 있다"
   ]
  },
  {
   "cell_type": "markdown",
   "id": "3a11c709",
   "metadata": {},
   "source": [
    "밑 scatter_은 target_onehot을 scatter로 원핫 인코딩으로 텐서를 변경한다는 것이고, 안에 있는 인자의 값은 target 안에 있는 점수에 해당하는 인덱스 값을 1.0으로 설정한다는 뜻이다"
   ]
  },
  {
   "cell_type": "code",
   "execution_count": 39,
   "id": "9fa3ce26",
   "metadata": {
    "scrolled": false
   },
   "outputs": [
    {
     "data": {
      "text/plain": [
       "tensor([[0., 0.,  ..., 0., 0.],\n",
       "        [0., 0.,  ..., 0., 0.],\n",
       "        ...,\n",
       "        [0., 0.,  ..., 0., 0.],\n",
       "        [0., 0.,  ..., 0., 0.]])"
      ]
     },
     "execution_count": 39,
     "metadata": {},
     "output_type": "execute_result"
    }
   ],
   "source": [
    "target_onehot = torch.zeros(target.shape[0], 10)\n",
    "target_onehot.scatter_(1, target.unsqueeze(1), 1.0)#뒤에 오는 두개의 인자가 따라야하는 차원, 원핫으로 인코딩할 요소를 \n",
    "                                                #가리키는 인덱스가 들어있는 텐서, 원핫 인코딩할 원소가 들어있는 텐서/스칼라"
   ]
  },
  {
   "cell_type": "markdown",
   "id": "097c687c",
   "metadata": {},
   "source": [
    "target_onehot이 4898x10의 차원이므로 target.unsqueeze(1)로 target에 추가 차원을 만들어주고 원핫 인코딩을 해준다"
   ]
  },
  {
   "cell_type": "code",
   "execution_count": 42,
   "id": "05bfe04d",
   "metadata": {},
   "outputs": [
    {
     "data": {
      "text/plain": [
       "tensor([[6],\n",
       "        [6],\n",
       "        ...,\n",
       "        [7],\n",
       "        [6]])"
      ]
     },
     "execution_count": 42,
     "metadata": {},
     "output_type": "execute_result"
    }
   ],
   "source": [
    "target_unsqueezed = target.unsqueeze(1)\n",
    "target_unsqueezed"
   ]
  },
  {
   "attachments": {
    "image.png": {
     "image/png": "[encoded data removed]"
    }
   },
   "cell_type": "markdown",
   "id": "ef855db4",
   "metadata": {},
   "source": [
    "![image.png](attachment:image.png)"
   ]
  },
  {
   "cell_type": "markdown",
   "id": "64a82c0f",
   "metadata": {},
   "source": [
    "데이터를 연속으로 취급할 것인지 카테고리로 취급할 것인지에 대하여, 위와 같은 로직을 떠올리면 결정하기 쉬울 것 같다"
   ]
  },
  {
   "cell_type": "markdown",
   "id": "b48dc76f",
   "metadata": {},
   "source": [
    "텐서 API를 이용해서 텐서의 각 열의 평균과 표준 편차를 구할 수 있다"
   ]
  },
  {
   "cell_type": "code",
   "execution_count": 40,
   "id": "09f23d11",
   "metadata": {
    "scrolled": true
   },
   "outputs": [
    {
     "data": {
      "text/plain": [
       "tensor([6.8548e+00, 2.7824e-01, 3.3419e-01, 6.3914e+00, 4.5772e-02, 3.5308e+01,\n",
       "        1.3836e+02, 9.9403e-01, 3.1883e+00, 4.8985e-01, 1.0514e+01])"
      ]
     },
     "execution_count": 40,
     "metadata": {},
     "output_type": "execute_result"
    }
   ],
   "source": [
    "data_mean = torch.mean(data, dim=0)\n",
    "data_mean"
   ]
  },
  {
   "cell_type": "code",
   "execution_count": 43,
   "id": "d816ae99",
   "metadata": {
    "scrolled": true
   },
   "outputs": [
    {
     "data": {
      "text/plain": [
       "tensor([7.1211e-01, 1.0160e-02, 1.4646e-02, 2.5726e+01, 4.7733e-04, 2.8924e+02,\n",
       "        1.8061e+03, 8.9455e-06, 2.2801e-02, 1.3025e-02, 1.5144e+00])"
      ]
     },
     "execution_count": 43,
     "metadata": {},
     "output_type": "execute_result"
    }
   ],
   "source": [
    "data_var = torch.var(data, dim=0)\n",
    "data_var"
   ]
  },
  {
   "cell_type": "markdown",
   "id": "8bbe8577",
   "metadata": {},
   "source": [
    "각 열의 모든 원소에 해당하는 평균을 빼준 값을 표준 편차로 나눠줌으로써 정규화시켜준다"
   ]
  },
  {
   "cell_type": "code",
   "execution_count": 44,
   "id": "01145423",
   "metadata": {},
   "outputs": [
    {
     "data": {
      "text/plain": [
       "tensor([[ 1.7208e-01, -8.1761e-02,  ..., -3.4915e-01, -1.3930e+00],\n",
       "        [-6.5743e-01,  2.1587e-01,  ...,  1.3422e-03, -8.2419e-01],\n",
       "        ...,\n",
       "        [-1.6054e+00,  1.1666e-01,  ..., -9.6251e-01,  1.8574e+00],\n",
       "        [-1.0129e+00, -6.7703e-01,  ..., -1.4882e+00,  1.0448e+00]])"
      ]
     },
     "execution_count": 44,
     "metadata": {},
     "output_type": "execute_result"
    }
   ],
   "source": [
    "data_normalized = (data - data_mean) / torch.sqrt(data_var)\n",
    "data_normalized"
   ]
  },
  {
   "cell_type": "markdown",
   "id": "4ce24952",
   "metadata": {},
   "source": [
    "혹은 입계값으로 나쁜 와인 좋은 와인을 구별할 수 있다. 나쁜 와인은 점수가 3 이하인 값이라고 설정하자."
   ]
  },
  {
   "cell_type": "code",
   "execution_count": 45,
   "id": "6daf7da2",
   "metadata": {},
   "outputs": [
    {
     "data": {
      "text/plain": [
       "(torch.Size([4898]), torch.bool, tensor(20))"
      ]
     },
     "execution_count": 45,
     "metadata": {},
     "output_type": "execute_result"
    }
   ],
   "source": [
    "bad_indexes = target <= 3 # <1>텐서에 바로 비교 연산자를 통해 불리언 텐서를 만들 수 있다\n",
    "bad_indexes.shape, bad_indexes.dtype, bad_indexes.sum()"
   ]
  },
  {
   "cell_type": "code",
   "execution_count": 46,
   "id": "bd0b863f",
   "metadata": {},
   "outputs": [
    {
     "data": {
      "text/plain": [
       "torch.Size([20, 11])"
      ]
     },
     "execution_count": 46,
     "metadata": {},
     "output_type": "execute_result"
    }
   ],
   "source": [
    "bad_data = data[bad_indexes]\n",
    "bad_data.shape"
   ]
  },
  {
   "cell_type": "markdown",
   "id": "4f130b86",
   "metadata": {},
   "source": [
    "이제 와인을 좋음, 보통, 나쁨 카테고리로 나눌 수 있다. 이제 각 카테고리의 평균치를 구한 다음에 각 열에 따른 평균값을 출력해보자"
   ]
  },
  {
   "cell_type": "code",
   "execution_count": 47,
   "id": "e2f05f89",
   "metadata": {},
   "outputs": [
    {
     "name": "stdout",
     "output_type": "stream",
     "text": [
      " 0 fixed acidity          7.60   6.89   6.73\n",
      " 1 volatile acidity       0.33   0.28   0.27\n",
      " 2 citric acid            0.34   0.34   0.33\n",
      " 3 residual sugar         6.39   6.71   5.26\n",
      " 4 chlorides              0.05   0.05   0.04\n",
      " 5 free sulfur dioxide   53.33  35.42  34.55\n",
      " 6 total sulfur dioxide 170.60 141.83 125.25\n",
      " 7 density                0.99   0.99   0.99\n",
      " 8 pH                     3.19   3.18   3.22\n",
      " 9 sulphates              0.47   0.49   0.50\n",
      "10 alcohol               10.34  10.26  11.42\n"
     ]
    }
   ],
   "source": [
    "bad_data = data[target <= 3]\n",
    "mid_data = data[(target > 3) & (target < 7)] # <1>\n",
    "good_data = data[target >= 7]\n",
    "\n",
    "bad_mean = torch.mean(bad_data, dim=0)\n",
    "mid_mean = torch.mean(mid_data, dim=0)\n",
    "good_mean = torch.mean(good_data, dim=0)\n",
    "\n",
    "for i, args in enumerate(zip(col_list, bad_mean, mid_mean, good_mean)):\n",
    "    print('{:2} {:20} {:6.2f} {:6.2f} {:6.2f}'.format(i, *args))"
   ]
  },
  {
   "cell_type": "markdown",
   "id": "d09b65e2",
   "metadata": {},
   "source": [
    "한눈에 봐도 나쁜 와인은 total sulfur dioxide(이산화황)이 높아 보인다. 와인을 평가하기 위해 이산화황 총량을 임계값으로 사용해보자. 이산화황의 중앙값인 141.83이고 이보다 낮은 인덱스만 가져와보자."
   ]
  },
  {
   "cell_type": "code",
   "execution_count": 49,
   "id": "2223f503",
   "metadata": {},
   "outputs": [
    {
     "data": {
      "text/plain": [
       "(torch.Size([4898]), torch.bool, tensor(2727))"
      ]
     },
     "execution_count": 49,
     "metadata": {},
     "output_type": "execute_result"
    }
   ],
   "source": [
    "total_sulfur_threshold = 141.83\n",
    "total_sulfur_data = data[:,6]\n",
    "predicted_indexes = torch.lt(total_sulfur_data, total_sulfur_threshold)\n",
    "\n",
    "predicted_indexes.shape, predicted_indexes.dtype, predicted_indexes.sum()"
   ]
  },
  {
   "cell_type": "markdown",
   "id": "1f64ddd4",
   "metadata": {},
   "source": [
    "이제 점수가 5보다 높은 좋은 와인이랑 비교해보자. 임계값으로 예측한 수량보다 좋은 와인이 500개나 더 많은 것을 보아 완벽하지 않은 것이 증명되었다. "
   ]
  },
  {
   "cell_type": "code",
   "execution_count": 50,
   "id": "c6d5b3a2",
   "metadata": {},
   "outputs": [
    {
     "data": {
      "text/plain": [
       "(torch.Size([4898]), torch.bool, tensor(3258))"
      ]
     },
     "execution_count": 50,
     "metadata": {},
     "output_type": "execute_result"
    }
   ],
   "source": [
    "actual_indexes = target > 5\n",
    "\n",
    "actual_indexes.shape, actual_indexes.dtype, actual_indexes.sum()"
   ]
  },
  {
   "cell_type": "markdown",
   "id": "27cf7682",
   "metadata": {},
   "source": [
    "이제 &연산자를 이용해 이산화황으로 예측한 결과를 평가해보자. 2000개 가량을 맞췄으니, 74%의 확률로 고품질의 와인을 골라 낼 수 있게 되었다. "
   ]
  },
  {
   "cell_type": "code",
   "execution_count": 51,
   "id": "846f55a5",
   "metadata": {},
   "outputs": [
    {
     "data": {
      "text/plain": [
       "(2018, 0.74000733406674, 0.6193984039287906)"
      ]
     },
     "execution_count": 51,
     "metadata": {},
     "output_type": "execute_result"
    }
   ],
   "source": [
    "n_matches = torch.sum(actual_indexes & predicted_indexes).item()\n",
    "n_predicted = torch.sum(predicted_indexes).item()\n",
    "n_actual = torch.sum(actual_indexes).item()\n",
    "\n",
    "n_matches, n_matches / n_predicted, n_matches / n_actual"
   ]
  },
  {
   "cell_type": "markdown",
   "id": "4ab25a9e",
   "metadata": {},
   "source": [
    "## 4.4 시계열 데이터"
   ]
  },
  {
   "cell_type": "markdown",
   "id": "96b5fa5b",
   "metadata": {},
   "source": [
    "아래 데이터는 시간대별로 자전거가 대여된 데이터를 나타낸다. 순서가 있는 데이터기 때문에, 단순하게 데이터 순서를 무시할 수 없다"
   ]
  },
  {
   "cell_type": "code",
   "execution_count": 48,
   "id": "ce0adcd9",
   "metadata": {
    "scrolled": true
   },
   "outputs": [
    {
     "data": {
      "text/plain": [
       "tensor([[1.0000e+00, 1.0000e+00,  ..., 1.3000e+01, 1.6000e+01],\n",
       "        [2.0000e+00, 1.0000e+00,  ..., 3.2000e+01, 4.0000e+01],\n",
       "        ...,\n",
       "        [1.7378e+04, 3.1000e+01,  ..., 4.8000e+01, 6.1000e+01],\n",
       "        [1.7379e+04, 3.1000e+01,  ..., 3.7000e+01, 4.9000e+01]])"
      ]
     },
     "execution_count": 48,
     "metadata": {},
     "output_type": "execute_result"
    }
   ],
   "source": [
    "bikes_numpy = np.loadtxt(\n",
    "    \"data/p1ch4/bike-sharing-dataset/hour-fixed.csv\", \n",
    "    dtype=np.float32, \n",
    "    delimiter=\",\", \n",
    "    skiprows=1, \n",
    "    converters={1: lambda x: float(x[8:10])}) # <1>첫번째 열의 일자 문자열을 숫자로 반환\n",
    "bikes = torch.from_numpy(bikes_numpy)\n",
    "bikes"
   ]
  },
  {
   "cell_type": "markdown",
   "id": "4708b30e",
   "metadata": {},
   "source": [
    "17520시간에 17개의 열이다. 17개의 열은 섭씨 기온, 습도 등이다. 열은 17개이기 때문에 stride가 (17, 1)인 걸 알 수 있다"
   ]
  },
  {
   "cell_type": "code",
   "execution_count": 3,
   "id": "bc04358c",
   "metadata": {
    "scrolled": true
   },
   "outputs": [
    {
     "data": {
      "text/plain": [
       "(torch.Size([17520, 17]), (17, 1))"
      ]
     },
     "execution_count": 3,
     "metadata": {},
     "output_type": "execute_result"
    }
   ],
   "source": [
    "bikes.shape, bikes.stride()"
   ]
  },
  {
   "cell_type": "markdown",
   "id": "7d042bc2",
   "metadata": {},
   "source": [
    "일별로 나타내야 하기 때문에 24시간 배치로 바라보는 뷰가 필요하다. view 함수로 행을 24로 바꿔주고, -1로 남은 값을 0차원에 넣어준다."
   ]
  },
  {
   "cell_type": "code",
   "execution_count": 4,
   "id": "08d07e5e",
   "metadata": {},
   "outputs": [
    {
     "data": {
      "text/plain": [
       "(torch.Size([730, 24, 17]), (408, 17, 1))"
      ]
     },
     "execution_count": 4,
     "metadata": {},
     "output_type": "execute_result"
    }
   ],
   "source": [
    "daily_bikes = bikes.view(-1, 24, bikes.shape[1])\n",
    "daily_bikes.shape, daily_bikes.stride()"
   ]
  },
  {
   "cell_type": "code",
   "execution_count": 5,
   "id": "3399e2d6",
   "metadata": {},
   "outputs": [
    {
     "data": {
      "text/plain": [
       "(torch.Size([730, 17, 24]), (408, 1, 17))"
      ]
     },
     "execution_count": 5,
     "metadata": {},
     "output_type": "execute_result"
    }
   ],
   "source": [
    "daily_bikes = daily_bikes.transpose(1, 2)\n",
    "daily_bikes.shape, daily_bikes.stride()"
   ]
  },
  {
   "cell_type": "markdown",
   "id": "d2216c1a",
   "metadata": {},
   "source": [
    "날씨를 기준으로 할떄, 1은 좋은 날씨 4는 아주 안좋은 날씨다. 이를 카테고리로 보려면 원핫 인코딩 벡터로 만들어야 한다."
   ]
  },
  {
   "cell_type": "code",
   "execution_count": 6,
   "id": "524a32a3",
   "metadata": {},
   "outputs": [
    {
     "data": {
      "text/plain": [
       "tensor([1, 1, 1, 1, 1, 2, 1, 1, 1, 1, 1, 1, 1, 2, 2, 2, 2, 2, 3, 3, 2, 2,\n",
       "        2, 2])"
      ]
     },
     "execution_count": 6,
     "metadata": {},
     "output_type": "execute_result"
    }
   ],
   "source": [
    "first_day = bikes[:24].long()\n",
    "weather_onehot = torch.zeros(first_day.shape[0], 4)\n",
    "first_day[:,9]"
   ]
  },
  {
   "cell_type": "markdown",
   "id": "78e78e3d",
   "metadata": {},
   "source": [
    "unsqueeze로 싱글톤 차원을 더해준다. (한 행이 하나의 타겟 값에 대응되기 때문에 차원을 하나 늘려줘야 한다). "
   ]
  },
  {
   "cell_type": "code",
   "execution_count": 7,
   "id": "15ae86db",
   "metadata": {
    "scrolled": true
   },
   "outputs": [
    {
     "data": {
      "text/plain": [
       "tensor([[1., 0., 0., 0.],\n",
       "        [1., 0., 0., 0.],\n",
       "        ...,\n",
       "        [0., 1., 0., 0.],\n",
       "        [0., 1., 0., 0.]])"
      ]
     },
     "execution_count": 7,
     "metadata": {},
     "output_type": "execute_result"
    }
   ],
   "source": [
    "weather_onehot.scatter_(\n",
    "    dim=1, \n",
    "    index=first_day[:,9].unsqueeze(1).long() - 1, # <1> 날씨는 1부터 4지만 인덱스는 0에서 시작함으로 -1\n",
    "    value=1.0)"
   ]
  },
  {
   "cell_type": "markdown",
   "id": "ae66ee35",
   "metadata": {},
   "source": [
    "cat 함수로 원래 있던 데이터셋에 concatenate을 해준다"
   ]
  },
  {
   "cell_type": "code",
   "execution_count": 8,
   "id": "f966329b",
   "metadata": {
    "scrolled": true
   },
   "outputs": [
    {
     "data": {
      "text/plain": [
       "tensor([[ 1.0000,  1.0000,  1.0000,  0.0000,  1.0000,  0.0000,  0.0000,\n",
       "          6.0000,  0.0000,  1.0000,  0.2400,  0.2879,  0.8100,  0.0000,\n",
       "          3.0000, 13.0000, 16.0000,  1.0000,  0.0000,  0.0000,  0.0000]])"
      ]
     },
     "execution_count": 8,
     "metadata": {},
     "output_type": "execute_result"
    }
   ],
   "source": [
    "torch.cat((bikes[:24], weather_onehot), 1)[:1]"
   ]
  },
  {
   "cell_type": "code",
   "execution_count": 9,
   "id": "bb920e13",
   "metadata": {},
   "outputs": [
    {
     "data": {
      "text/plain": [
       "torch.Size([730, 4, 24])"
      ]
     },
     "execution_count": 9,
     "metadata": {},
     "output_type": "execute_result"
    }
   ],
   "source": [
    "daily_weather_onehot = torch.zeros(daily_bikes.shape[0], 4,\n",
    "                                   daily_bikes.shape[2])\n",
    "daily_weather_onehot.shape"
   ]
  },
  {
   "cell_type": "code",
   "execution_count": 10,
   "id": "f9f18aeb",
   "metadata": {},
   "outputs": [
    {
     "data": {
      "text/plain": [
       "torch.Size([730, 4, 24])"
      ]
     },
     "execution_count": 10,
     "metadata": {},
     "output_type": "execute_result"
    }
   ],
   "source": [
    "daily_weather_onehot.scatter_(\n",
    "    1, daily_bikes[:,9,:].long().unsqueeze(1) - 1, 1.0)\n",
    "daily_weather_onehot.shape"
   ]
  },
  {
   "cell_type": "code",
   "execution_count": 11,
   "id": "928cf5b5",
   "metadata": {},
   "outputs": [],
   "source": [
    "daily_bikes = torch.cat((daily_bikes, daily_weather_onehot), dim=1)"
   ]
  },
  {
   "cell_type": "code",
   "execution_count": 12,
   "id": "079af808",
   "metadata": {},
   "outputs": [],
   "source": [
    "daily_bikes[:, 9, :] = (daily_bikes[:, 9, :] - 1.0) / 3.0"
   ]
  },
  {
   "cell_type": "markdown",
   "id": "af0b5a83",
   "metadata": {},
   "source": [
    "앞에서 설명한 바와 같이 변수를 0부터 1 or -1부터 1 사잇값으로 가지는게 좋기 때문에 min, max로 맞춰주거나 평균 뺴주기 나누기 표준오차로 정규화를 해줄 수 있다"
   ]
  },
  {
   "cell_type": "code",
   "execution_count": 13,
   "id": "9e9f6926",
   "metadata": {},
   "outputs": [],
   "source": [
    "temp = daily_bikes[:, 10, :]\n",
    "temp_min = torch.min(temp)\n",
    "temp_max = torch.max(temp)\n",
    "daily_bikes[:, 10, :] = ((daily_bikes[:, 10, :] - temp_min)\n",
    "                         / (temp_max - temp_min))"
   ]
  },
  {
   "cell_type": "code",
   "execution_count": 14,
   "id": "fbbb6f4c",
   "metadata": {},
   "outputs": [],
   "source": [
    "temp = daily_bikes[:, 10, :]\n",
    "daily_bikes[:, 10, :] = ((daily_bikes[:, 10, :] - torch.mean(temp))\n",
    "                         / torch.std(temp))"
   ]
  },
  {
   "cell_type": "markdown",
   "id": "ebbcc061",
   "metadata": {},
   "source": [
    "## 4.5 텍스트 표현하기"
   ]
  },
  {
   "cell_type": "markdown",
   "id": "52e9625e",
   "metadata": {},
   "source": [
    "NLP(자연어 처리)는 텍스트를 숫자로 변환해야 한다. 아래 데이터는 제인 오스틴의 오만과 편견이다."
   ]
  },
  {
   "cell_type": "code",
   "execution_count": 4,
   "id": "847522c2",
   "metadata": {},
   "outputs": [],
   "source": [
    "with open('data/p1ch4/jane-austen/1342-0.txt', encoding='utf8') as f:\n",
    "    text = f.read()"
   ]
  },
  {
   "cell_type": "markdown",
   "id": "5991a540",
   "metadata": {},
   "source": [
    "엔터를 기준으로 split해준 값이다. 문장을 split해주었다.  "
   ]
  },
  {
   "cell_type": "code",
   "execution_count": 5,
   "id": "a6afdaa6",
   "metadata": {
    "scrolled": true
   },
   "outputs": [
    {
     "data": {
      "text/plain": [
       "'“Impossible, Mr. Bennet, impossible, when I am not acquainted with him'"
      ]
     },
     "execution_count": 5,
     "metadata": {},
     "output_type": "execute_result"
    }
   ],
   "source": [
    "lines = text.split('\\n')\n",
    "line = lines[200]\n",
    "line"
   ]
  },
  {
   "cell_type": "markdown",
   "id": "0819722e",
   "metadata": {},
   "source": [
    "행 전체의 문자를 원핫 인코딩한 문자의 총수를 담을 텐서를 만들자"
   ]
  },
  {
   "cell_type": "code",
   "execution_count": 7,
   "id": "9dd0931d",
   "metadata": {},
   "outputs": [
    {
     "data": {
      "text/plain": [
       "torch.Size([70, 128])"
      ]
     },
     "execution_count": 7,
     "metadata": {},
     "output_type": "execute_result"
    }
   ],
   "source": [
    "letter_t = torch.zeros(len(line), 128) # <1> 아스키 제한인 128로 하드코딩\n",
    "letter_t.shape"
   ]
  },
  {
   "cell_type": "markdown",
   "id": "19b807de",
   "metadata": {},
   "source": [
    "이제 각 letter를 아스키코드에 따라 원핫 인코딩 해준다"
   ]
  },
  {
   "cell_type": "code",
   "execution_count": 5,
   "id": "27da496b",
   "metadata": {},
   "outputs": [],
   "source": [
    "for i, letter in enumerate(line.lower().strip()):\n",
    "    letter_index = ord(letter) if ord(letter) < 128 else 0  # <1>\n",
    "    letter_t[i][letter_index] = 1"
   ]
  },
  {
   "cell_type": "markdown",
   "id": "78a85c04",
   "metadata": {},
   "source": [
    "clean_words는 텍스트를 받아 소문자로 만들고 구두점을 날리는 함수다"
   ]
  },
  {
   "cell_type": "code",
   "execution_count": 6,
   "id": "e1011a87",
   "metadata": {
    "scrolled": true
   },
   "outputs": [
    {
     "data": {
      "text/plain": [
       "('“Impossible, Mr. Bennet, impossible, when I am not acquainted with him',\n",
       " ['impossible',\n",
       "  'mr',\n",
       "  'bennet',\n",
       "  'impossible',\n",
       "  'when',\n",
       "  'i',\n",
       "  'am',\n",
       "  'not',\n",
       "  'acquainted',\n",
       "  'with',\n",
       "  'him'])"
      ]
     },
     "execution_count": 6,
     "metadata": {},
     "output_type": "execute_result"
    }
   ],
   "source": [
    "def clean_words(input_str):\n",
    "    punctuation = '.,;:\"!?”“_-'\n",
    "    word_list = input_str.lower().replace('\\n',' ').split()\n",
    "    word_list = [word.strip(punctuation) for word in word_list]\n",
    "    return word_list\n",
    "\n",
    "words_in_line = clean_words(line)\n",
    "line, words_in_line"
   ]
  },
  {
   "cell_type": "markdown",
   "id": "b484d0b3",
   "metadata": {},
   "source": [
    "word2index_dict는 단어를 키로, 정수를 값으로 가지는 딕셔너리다. 나중에 단어에 대한 인덱스를 찾을 때 해싱을 이용한 원리인 것 같다. "
   ]
  },
  {
   "cell_type": "code",
   "execution_count": 7,
   "id": "d78f0227",
   "metadata": {},
   "outputs": [
    {
     "data": {
      "text/plain": [
       "(7261, 3394)"
      ]
     },
     "execution_count": 7,
     "metadata": {},
     "output_type": "execute_result"
    }
   ],
   "source": [
    "word_list = sorted(set(clean_words(text)))\n",
    "word2index_dict = {word: i for (i, word) in enumerate(word_list)}\n",
    "\n",
    "len(word2index_dict), word2index_dict['impossible']"
   ]
  },
  {
   "cell_type": "code",
   "execution_count": 8,
   "id": "c20df4c7",
   "metadata": {},
   "outputs": [
    {
     "name": "stdout",
     "output_type": "stream",
     "text": [
      " 0 3394 impossible\n",
      " 1 4305 mr\n",
      " 2  813 bennet\n",
      " 3 3394 impossible\n",
      " 4 7078 when\n",
      " 5 3315 i\n",
      " 6  415 am\n",
      " 7 4436 not\n",
      " 8  239 acquainted\n",
      " 9 7148 with\n",
      "10 3215 him\n",
      "torch.Size([11, 7261])\n"
     ]
    }
   ],
   "source": [
    "word_t = torch.zeros(len(words_in_line), len(word2index_dict))\n",
    "for i, word in enumerate(words_in_line):\n",
    "    word_index = word2index_dict[word]\n",
    "    word_t[i][word_index] = 1\n",
    "    print('{:2} {:4} {}'.format(i, word_index, word))\n",
    "    \n",
    "print(word_t.shape)\n"
   ]
  },
  {
   "cell_type": "code",
   "execution_count": 9,
   "id": "0b1f3675",
   "metadata": {},
   "outputs": [
    {
     "data": {
      "text/plain": [
       "torch.Size([11, 1, 7261])"
      ]
     },
     "execution_count": 9,
     "metadata": {},
     "output_type": "execute_result"
    }
   ],
   "source": [
    "word_t = word_t.unsqueeze(1)\n",
    "word_t.shape"
   ]
  },
  {
   "cell_type": "code",
   "execution_count": 10,
   "id": "d0c4ff61",
   "metadata": {},
   "outputs": [
    {
     "data": {
      "text/plain": [
       "[('\\n', 10),\n",
       " (' ', 32),\n",
       " ('!', 33),\n",
       " ('#', 35),\n",
       " ('$', 36),\n",
       " ('%', 37),\n",
       " (\"'\", 39),\n",
       " ('(', 40),\n",
       " (')', 41),\n",
       " ('*', 42),\n",
       " (',', 44),\n",
       " ('-', 45),\n",
       " ('.', 46),\n",
       " ('/', 47),\n",
       " ('0', 48),\n",
       " ('1', 49),\n",
       " ('2', 50),\n",
       " ('3', 51),\n",
       " ('4', 52),\n",
       " ('5', 53),\n",
       " ('6', 54),\n",
       " ('7', 55),\n",
       " ('8', 56),\n",
       " ('9', 57),\n",
       " (':', 58),\n",
       " (';', 59),\n",
       " ('?', 63),\n",
       " ('@', 64),\n",
       " ('A', 65),\n",
       " ('B', 66),\n",
       " ('C', 67),\n",
       " ('D', 68),\n",
       " ('E', 69),\n",
       " ('F', 70),\n",
       " ('G', 71),\n",
       " ('H', 72),\n",
       " ('I', 73),\n",
       " ('J', 74),\n",
       " ('K', 75),\n",
       " ('L', 76),\n",
       " ('M', 77),\n",
       " ('N', 78),\n",
       " ('O', 79),\n",
       " ('P', 80),\n",
       " ('Q', 81),\n",
       " ('R', 82),\n",
       " ('S', 83),\n",
       " ('T', 84),\n",
       " ('U', 85),\n",
       " ('V', 86),\n",
       " ('W', 87),\n",
       " ('X', 88),\n",
       " ('Y', 89),\n",
       " ('Z', 90),\n",
       " ('[', 91),\n",
       " (']', 93),\n",
       " ('_', 95),\n",
       " ('a', 97),\n",
       " ('b', 98),\n",
       " ('c', 99),\n",
       " ('d', 100),\n",
       " ('e', 101),\n",
       " ('f', 102),\n",
       " ('g', 103),\n",
       " ('h', 104),\n",
       " ('i', 105),\n",
       " ('j', 106),\n",
       " ('k', 107),\n",
       " ('l', 108),\n",
       " ('m', 109),\n",
       " ('n', 110),\n",
       " ('o', 111),\n",
       " ('p', 112),\n",
       " ('q', 113),\n",
       " ('r', 114),\n",
       " ('s', 115),\n",
       " ('t', 116),\n",
       " ('u', 117),\n",
       " ('v', 118),\n",
       " ('w', 119),\n",
       " ('x', 120),\n",
       " ('y', 121),\n",
       " ('z', 122),\n",
       " ('“', 8220),\n",
       " ('”', 8221),\n",
       " ('\\ufeff', 65279)]"
      ]
     },
     "execution_count": 10,
     "metadata": {},
     "output_type": "execute_result"
    }
   ],
   "source": [
    "[(c, ord(c)) for c in sorted(set(text))]\n"
   ]
  },
  {
   "cell_type": "markdown",
   "id": "4079b0a3",
   "metadata": {},
   "source": [
    "## 4.7 연습 문제"
   ]
  },
  {
   "cell_type": "markdown",
   "id": "64370689",
   "metadata": {},
   "source": [
    "1. 빨간색, 파란색, 초록색 물건을 찍은 사진을 준비해라\\\n",
    "a. 각이미지를 읽어 텐서로 변환해라"
   ]
  },
  {
   "cell_type": "code",
   "execution_count": 8,
   "id": "40f2811c",
   "metadata": {},
   "outputs": [
    {
     "name": "stdout",
     "output_type": "stream",
     "text": [
      "Requirement already satisfied: imageio in c:\\users\\hs\\anaconda3\\envs\\ml\\lib\\site-packages (2.21.2)\n",
      "Requirement already satisfied: numpy in c:\\users\\hs\\anaconda3\\envs\\ml\\lib\\site-packages (from imageio) (1.22.3)\n",
      "Requirement already satisfied: pillow>=8.3.2 in c:\\users\\hs\\anaconda3\\envs\\ml\\lib\\site-packages (from imageio) (9.2.0)\n",
      "Note: you may need to restart the kernel to use updated packages.\n"
     ]
    }
   ],
   "source": [
    "pip install imageio"
   ]
  },
  {
   "cell_type": "code",
   "execution_count": 11,
   "id": "24d5cb22",
   "metadata": {
    "scrolled": true
   },
   "outputs": [
    {
     "name": "stderr",
     "output_type": "stream",
     "text": [
      "C:\\Users\\HS\\AppData\\Local\\Temp\\ipykernel_13156\\2870309030.py:2: DeprecationWarning: Starting with ImageIO v3 the behavior of this function will switch to that of iio.v3.imread. To keep the current behavior (and make this warning dissapear) use `import imageio.v2 as imageio` or call `imageio.v2.imread` directly.\n",
      "  red = imageio.imread(\"red.jpg\")\n",
      "C:\\Users\\HS\\AppData\\Local\\Temp\\ipykernel_13156\\2870309030.py:3: DeprecationWarning: Starting with ImageIO v3 the behavior of this function will switch to that of iio.v3.imread. To keep the current behavior (and make this warning dissapear) use `import imageio.v2 as imageio` or call `imageio.v2.imread` directly.\n",
      "  blue = imageio.imread(\"blue.jfif\")\n",
      "C:\\Users\\HS\\AppData\\Local\\Temp\\ipykernel_13156\\2870309030.py:4: DeprecationWarning: Starting with ImageIO v3 the behavior of this function will switch to that of iio.v3.imread. To keep the current behavior (and make this warning dissapear) use `import imageio.v2 as imageio` or call `imageio.v2.imread` directly.\n",
      "  green = imageio.imread(\"green.jfif\")\n"
     ]
    }
   ],
   "source": [
    "import imageio\n",
    "red = imageio.imread(\"red.jpg\")\n",
    "blue = imageio.imread(\"blue.jfif\")\n",
    "green = imageio.imread(\"green.jfif\")"
   ]
  },
  {
   "cell_type": "code",
   "execution_count": 27,
   "id": "b3a5a5e0",
   "metadata": {
    "scrolled": true
   },
   "outputs": [
    {
     "data": {
      "text/plain": [
       "Array([[[255, 245, 255],\n",
       "        [255, 248, 255],\n",
       "        [255, 251, 252],\n",
       "        ...,\n",
       "        [249, 253, 255],\n",
       "        [255, 250, 255],\n",
       "        [255, 246, 255]],\n",
       "\n",
       "       [[255, 248, 254],\n",
       "        [255, 254, 255],\n",
       "        [248, 255, 255],\n",
       "        ...,\n",
       "        [244, 255, 255],\n",
       "        [254, 255, 255],\n",
       "        [255, 247, 255]],\n",
       "\n",
       "       [[251, 255, 254],\n",
       "        [247, 255, 255],\n",
       "        [236, 255, 251],\n",
       "        ...,\n",
       "        [238, 255, 254],\n",
       "        [248, 255, 255],\n",
       "        [255, 251, 255]],\n",
       "\n",
       "       ...,\n",
       "\n",
       "       [[236, 255, 255],\n",
       "        [242, 255, 255],\n",
       "        [241, 255, 255],\n",
       "        ...,\n",
       "        [252, 250, 251],\n",
       "        [255, 255, 255],\n",
       "        [255, 255, 255]],\n",
       "\n",
       "       [[246, 254, 255],\n",
       "        [251, 255, 255],\n",
       "        [251, 255, 255],\n",
       "        ...,\n",
       "        [255, 255, 255],\n",
       "        [255, 255, 255],\n",
       "        [250, 250, 250]],\n",
       "\n",
       "       [[255, 253, 255],\n",
       "        [255, 250, 255],\n",
       "        [255, 252, 255],\n",
       "        ...,\n",
       "        [252, 252, 252],\n",
       "        [253, 253, 253],\n",
       "        [255, 255, 255]]], dtype=uint8)"
      ]
     },
     "execution_count": 27,
     "metadata": {},
     "output_type": "execute_result"
    }
   ],
   "source": [
    "red"
   ]
  },
  {
   "cell_type": "markdown",
   "id": "c47fef14",
   "metadata": {},
   "source": [
    "b. 각 이미지 텐서에 대해 .mean() 메소드를 이용해 이미지가 얼마나 밝은지 확인해라"
   ]
  },
  {
   "cell_type": "code",
   "execution_count": 21,
   "id": "9fbbe3d0",
   "metadata": {},
   "outputs": [],
   "source": [
    "red_bright = red[:, ].mean()\n",
    "blue_bright = blue[:, ].mean()\n",
    "green_bright = green[:, ].mean()"
   ]
  },
  {
   "cell_type": "code",
   "execution_count": 22,
   "id": "e5fa927c",
   "metadata": {},
   "outputs": [
    {
     "data": {
      "text/plain": [
       "55.38684468283582"
      ]
     },
     "execution_count": 22,
     "metadata": {},
     "output_type": "execute_result"
    }
   ],
   "source": [
    "red_bright"
   ]
  },
  {
   "cell_type": "code",
   "execution_count": 23,
   "id": "06067c79",
   "metadata": {},
   "outputs": [
    {
     "data": {
      "text/plain": [
       "135.2259635925293"
      ]
     },
     "execution_count": 23,
     "metadata": {},
     "output_type": "execute_result"
    }
   ],
   "source": [
    "blue_bright"
   ]
  },
  {
   "cell_type": "code",
   "execution_count": 24,
   "id": "32ccff91",
   "metadata": {},
   "outputs": [
    {
     "data": {
      "text/plain": [
       "89.04596054080591"
      ]
     },
     "execution_count": 24,
     "metadata": {},
     "output_type": "execute_result"
    }
   ],
   "source": [
    "green_bright"
   ]
  },
  {
   "cell_type": "markdown",
   "id": "eb0c3d0c",
   "metadata": {},
   "source": [
    "c. 이미지 각 채널 평균을 구해보라. 채널의 평균값만으로 빨간색, 파란색, 초록색을 구분 가능한가?"
   ]
  },
  {
   "cell_type": "code",
   "execution_count": 30,
   "id": "40eb0a1a",
   "metadata": {
    "scrolled": true
   },
   "outputs": [
    {
     "name": "stdout",
     "output_type": "stream",
     "text": [
      "111.75451026119403\n",
      "20.930757929104477\n",
      "33.47526585820896\n"
     ]
    }
   ],
   "source": [
    "for i in range(3):\n",
    "    print(red[:, :,  i].mean())"
   ]
  },
  {
   "cell_type": "code",
   "execution_count": 32,
   "id": "c84a6556",
   "metadata": {},
   "outputs": [
    {
     "name": "stdout",
     "output_type": "stream",
     "text": [
      "121.00564956665039\n",
      "129.4054183959961\n",
      "155.2668228149414\n"
     ]
    }
   ],
   "source": [
    "for i in range(3):\n",
    "    print(blue[:, :,  i].mean())"
   ]
  },
  {
   "cell_type": "code",
   "execution_count": 31,
   "id": "29949908",
   "metadata": {
    "scrolled": true
   },
   "outputs": [
    {
     "name": "stdout",
     "output_type": "stream",
     "text": [
      "29.73432711061577\n",
      "141.7751661823827\n",
      "95.62838832941925\n"
     ]
    }
   ],
   "source": [
    "for i in range(3):\n",
    "    print(green[:, :,  i].mean())"
   ]
  },
  {
   "cell_type": "markdown",
   "id": "5ec3359d",
   "metadata": {},
   "source": [
    "RGB이므로 제일 각각 이미지의 색에 맞춰 RGB 값이 높게 나오기 때문에 구분 가능하다"
   ]
  },
  {
   "cell_type": "code",
   "execution_count": null,
   "id": "60a134a3",
   "metadata": {},
   "outputs": [],
   "source": []
  }
 ],
 "metadata": {
  "kernelspec": {
   "display_name": "Python 3 (ipykernel)",
   "language": "python",
   "name": "python3"
  },
  "language_info": {
   "codemirror_mode": {
    "name": "ipython",
    "version": 3
   },
   "file_extension": ".py",
   "mimetype": "text/x-python",
   "name": "python",
   "nbconvert_exporter": "python",
   "pygments_lexer": "ipython3",
   "version": "3.10.4"
  }
 },
 "nbformat": 4,
 "nbformat_minor": 5
}
